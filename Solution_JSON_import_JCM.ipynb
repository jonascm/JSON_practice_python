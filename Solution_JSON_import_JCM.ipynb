{
 "cells": [
  {
   "cell_type": "markdown",
   "metadata": {},
   "source": [
    "# Solution to JSON exercise\n",
    "\n",
    "By Jonas Cuadrado\n",
    "\n",
    "May 23, 2018\n"
   ]
  },
  {
   "cell_type": "markdown",
   "metadata": {},
   "source": [
    "## Initialization\n",
    "\n",
    "First, we import the useful packages"
   ]
  },
  {
   "cell_type": "code",
   "execution_count": 1,
   "metadata": {},
   "outputs": [],
   "source": [
    "import pandas as pd\n",
    "import json\n",
    "import numpy as np\n",
    "import os.path"
   ]
  },
  {
   "cell_type": "markdown",
   "metadata": {},
   "source": [
    "If the file is saved in /data, we can simply use the one stored. Otherwise, we will download it from the provided link"
   ]
  },
  {
   "cell_type": "code",
   "execution_count": 2,
   "metadata": {},
   "outputs": [
    {
     "name": "stdout",
     "output_type": "stream",
     "text": [
      "\n",
      "File found, using local copy\n",
      "\n"
     ]
    }
   ],
   "source": [
    "if os.path.exists('data/world_bank_projects.json'):\n",
    "    filename = 'data/world_bank_projects.json'\n",
    "    df0 = pd.read_json(filename)\n",
    "    print('\\nFile found, using local copy\\n')\n",
    "else:\n",
    "    from urllib.request import urlretrieve\n",
    "    from zipfile import ZipFile as ZF\n",
    "\n",
    "    url = 'http://jsonstudio.com/wp-content/uploads/2014/02/world_bank.zip'\n",
    "    file_name_zip = 'wb.zip'\n",
    "    urlretrieve(url, file_name_zip)\n",
    "\n",
    "    with ZF(file_name_zip, 'r') as zipf:\n",
    "        zipf.printdir()\n",
    "        zipf.extractall()\n",
    "        print('\\nFile downloaded\\n')\n",
    "    filename = 'world_bank.json'\n",
    "    df0 = pd.read_json(filename, lines=True)"
   ]
  },
  {
   "cell_type": "markdown",
   "metadata": {},
   "source": [
    "We are ready to explore the data"
   ]
  },
  {
   "cell_type": "code",
   "execution_count": 3,
   "metadata": {},
   "outputs": [
    {
     "name": "stdout",
     "output_type": "stream",
     "text": [
      "Index(['_id', 'approvalfy', 'board_approval_month', 'boardapprovaldate',\n",
      "       'borrower', 'closingdate', 'country_namecode', 'countrycode',\n",
      "       'countryname', 'countryshortname', 'docty', 'envassesmentcategorycode',\n",
      "       'grantamt', 'ibrdcommamt', 'id', 'idacommamt', 'impagency',\n",
      "       'lendinginstr', 'lendinginstrtype', 'lendprojectcost',\n",
      "       'majorsector_percent', 'mjsector_namecode', 'mjtheme',\n",
      "       'mjtheme_namecode', 'mjthemecode', 'prodline', 'prodlinetext',\n",
      "       'productlinetype', 'project_abstract', 'project_name', 'projectdocs',\n",
      "       'projectfinancialtype', 'projectstatusdisplay', 'regionname', 'sector',\n",
      "       'sector1', 'sector2', 'sector3', 'sector4', 'sector_namecode',\n",
      "       'sectorcode', 'source', 'status', 'supplementprojectflg', 'theme1',\n",
      "       'theme_namecode', 'themecode', 'totalamt', 'totalcommamt', 'url'],\n",
      "      dtype='object')\n"
     ]
    }
   ],
   "source": [
    "print(df0.columns)"
   ]
  },
  {
   "cell_type": "markdown",
   "metadata": {},
   "source": [
    "We will select only two columns to perform statistics and manipulate the dataframe. Let's start by making sure there are no NaNs in country code and project id columns"
   ]
  },
  {
   "cell_type": "code",
   "execution_count": 4,
   "metadata": {
    "scrolled": true
   },
   "outputs": [
    {
     "name": "stdout",
     "output_type": "stream",
     "text": [
      "<class 'pandas.core.frame.DataFrame'>\n",
      "Int64Index: 500 entries, 0 to 499\n",
      "Data columns (total 2 columns):\n",
      "countryshortname    500 non-null object\n",
      "mjtheme_namecode    500 non-null object\n",
      "dtypes: object(2)\n",
      "memory usage: 11.7+ KB\n",
      "None\n"
     ]
    }
   ],
   "source": [
    "df = df0[['countryshortname', 'mjtheme_namecode']]\n",
    "print(df.info())"
   ]
  },
  {
   "cell_type": "markdown",
   "metadata": {},
   "source": [
    "To access the data, we need to concatenate indices... note that what we have is a list of dictionaries for the themes, some have one theme, some have many."
   ]
  },
  {
   "cell_type": "code",
   "execution_count": 5,
   "metadata": {},
   "outputs": [
    {
     "name": "stdout",
     "output_type": "stream",
     "text": [
      "MJTheme\n",
      "{'code': '1', 'name': 'Economic management'}\n",
      "NameCode\n",
      "{'code': '6', 'name': 'Social protection and risk management'}\n",
      "<class 'dict'>\n"
     ]
    }
   ],
   "source": [
    "print('MJTheme')\n",
    "print(df['mjtheme_namecode'].iloc[1][0])\n",
    "print('NameCode')\n",
    "print(df['mjtheme_namecode'].iloc[1][1])\n",
    "print(type(df['mjtheme_namecode'].iloc[1][1]))"
   ]
  },
  {
   "cell_type": "markdown",
   "metadata": {},
   "source": [
    "## Problem 1: Countries with most projects\n",
    "\n",
    "Let's look at what are the lucky contries. To do so, we group the dataframe by country, aggregating using counts, and sort them. I will print 12 instead of 10, the reason will be obvious in a second.\n"
   ]
  },
  {
   "cell_type": "code",
   "execution_count": 6,
   "metadata": {},
   "outputs": [
    {
     "name": "stdout",
     "output_type": "stream",
     "text": [
      "                    mjtheme_namecode\n",
      "countryshortname                    \n",
      "China                             19\n",
      "Indonesia                         19\n",
      "Vietnam                           17\n",
      "India                             16\n",
      "Yemen, Republic of                13\n",
      "Nepal                             12\n",
      "Bangladesh                        12\n",
      "Morocco                           12\n",
      "Mozambique                        11\n",
      "Africa                            11\n",
      "Pakistan                           9\n",
      "Brazil                             9\n"
     ]
    }
   ],
   "source": [
    "cntrs = df.groupby('countryshortname').count().sort_values(by='mjtheme_namecode', ascending=False)\n",
    "print(cntrs.head(12))"
   ]
  },
  {
   "cell_type": "markdown",
   "metadata": {},
   "source": [
    "Why is Africa there? are there projects associated to many countries?"
   ]
  },
  {
   "cell_type": "code",
   "execution_count": 13,
   "metadata": {},
   "outputs": [
    {
     "data": {
      "text/html": [
       "<div>\n",
       "<style scoped>\n",
       "    .dataframe tbody tr th:only-of-type {\n",
       "        vertical-align: middle;\n",
       "    }\n",
       "\n",
       "    .dataframe tbody tr th {\n",
       "        vertical-align: top;\n",
       "    }\n",
       "\n",
       "    .dataframe thead th {\n",
       "        text-align: right;\n",
       "    }\n",
       "</style>\n",
       "<table border=\"1\" class=\"dataframe\">\n",
       "  <thead>\n",
       "    <tr style=\"text-align: right;\">\n",
       "      <th></th>\n",
       "      <th>_id</th>\n",
       "      <th>approvalfy</th>\n",
       "      <th>board_approval_month</th>\n",
       "      <th>boardapprovaldate</th>\n",
       "      <th>borrower</th>\n",
       "      <th>closingdate</th>\n",
       "      <th>country_namecode</th>\n",
       "      <th>countrycode</th>\n",
       "      <th>countryname</th>\n",
       "      <th>countryshortname</th>\n",
       "      <th>...</th>\n",
       "      <th>sectorcode</th>\n",
       "      <th>source</th>\n",
       "      <th>status</th>\n",
       "      <th>supplementprojectflg</th>\n",
       "      <th>theme1</th>\n",
       "      <th>theme_namecode</th>\n",
       "      <th>themecode</th>\n",
       "      <th>totalamt</th>\n",
       "      <th>totalcommamt</th>\n",
       "      <th>url</th>\n",
       "    </tr>\n",
       "  </thead>\n",
       "  <tbody>\n",
       "    <tr>\n",
       "      <th>45</th>\n",
       "      <td>{'$oid': '52b213b38594d8a2be17c7ad'}</td>\n",
       "      <td>2014</td>\n",
       "      <td>September</td>\n",
       "      <td>2013-09-12T00:00:00Z</td>\n",
       "      <td>ECOWAS</td>\n",
       "      <td>NaN</td>\n",
       "      <td>Africa!$!3A</td>\n",
       "      <td>3A</td>\n",
       "      <td>Africa</td>\n",
       "      <td>Africa</td>\n",
       "      <td>...</td>\n",
       "      <td>JA</td>\n",
       "      <td>IBRD</td>\n",
       "      <td>Active</td>\n",
       "      <td>N</td>\n",
       "      <td>{'Percent': 100, 'Name': 'Health system perfor...</td>\n",
       "      <td>[{'code': '67', 'name': 'Health system perform...</td>\n",
       "      <td>67</td>\n",
       "      <td>0</td>\n",
       "      <td>10000000</td>\n",
       "      <td>http://www.worldbank.org/projects/P125018/west...</td>\n",
       "    </tr>\n",
       "    <tr>\n",
       "      <th>46</th>\n",
       "      <td>{'$oid': '52b213b38594d8a2be17c7ae'}</td>\n",
       "      <td>2014</td>\n",
       "      <td>September</td>\n",
       "      <td>2013-09-10T00:00:00Z</td>\n",
       "      <td>UGANDA-COMOROS</td>\n",
       "      <td>2018-06-30T00:00:00Z</td>\n",
       "      <td>Africa!$!3A</td>\n",
       "      <td>3A</td>\n",
       "      <td>Africa</td>\n",
       "      <td>Africa</td>\n",
       "      <td>...</td>\n",
       "      <td>BM,CA,CT</td>\n",
       "      <td>IBRD</td>\n",
       "      <td>Active</td>\n",
       "      <td>N</td>\n",
       "      <td>{'Percent': 20, 'Name': 'Administrative and ci...</td>\n",
       "      <td>[{'code': '25', 'name': 'Administrative and ci...</td>\n",
       "      <td>39,40,78,25</td>\n",
       "      <td>22000000</td>\n",
       "      <td>22000000</td>\n",
       "      <td>http://www.worldbank.org/projects/P118213/rcip...</td>\n",
       "    </tr>\n",
       "  </tbody>\n",
       "</table>\n",
       "<p>2 rows × 50 columns</p>\n",
       "</div>"
      ],
      "text/plain": [
       "                                     _id  approvalfy board_approval_month  \\\n",
       "45  {'$oid': '52b213b38594d8a2be17c7ad'}        2014            September   \n",
       "46  {'$oid': '52b213b38594d8a2be17c7ae'}        2014            September   \n",
       "\n",
       "       boardapprovaldate        borrower           closingdate  \\\n",
       "45  2013-09-12T00:00:00Z          ECOWAS                   NaN   \n",
       "46  2013-09-10T00:00:00Z  UGANDA-COMOROS  2018-06-30T00:00:00Z   \n",
       "\n",
       "   country_namecode countrycode countryname countryshortname  \\\n",
       "45      Africa!$!3A          3A      Africa           Africa   \n",
       "46      Africa!$!3A          3A      Africa           Africa   \n",
       "\n",
       "                          ...                         sectorcode source  \\\n",
       "45                        ...                                 JA   IBRD   \n",
       "46                        ...                           BM,CA,CT   IBRD   \n",
       "\n",
       "    status  supplementprojectflg  \\\n",
       "45  Active                     N   \n",
       "46  Active                     N   \n",
       "\n",
       "                                               theme1  \\\n",
       "45  {'Percent': 100, 'Name': 'Health system perfor...   \n",
       "46  {'Percent': 20, 'Name': 'Administrative and ci...   \n",
       "\n",
       "                                       theme_namecode    themecode  totalamt  \\\n",
       "45  [{'code': '67', 'name': 'Health system perform...           67         0   \n",
       "46  [{'code': '25', 'name': 'Administrative and ci...  39,40,78,25  22000000   \n",
       "\n",
       "   totalcommamt                                                url  \n",
       "45     10000000  http://www.worldbank.org/projects/P125018/west...  \n",
       "46     22000000  http://www.worldbank.org/projects/P118213/rcip...  \n",
       "\n",
       "[2 rows x 50 columns]"
      ]
     },
     "execution_count": 13,
     "metadata": {},
     "output_type": "execute_result"
    }
   ],
   "source": [
    "africa = df0[df0['countryshortname']=='Africa']\n",
    "africa.head(2)"
   ]
  },
  {
   "cell_type": "markdown",
   "metadata": {},
   "source": [
    "The dataset doesn't seem to provide more information about which countries in Africa theose projects involve. We would need another source to know more."
   ]
  },
  {
   "cell_type": "markdown",
   "metadata": {},
   "source": [
    "## Problem 2: Major project themes\n",
    "\n",
    "Let's use the mjcode column to count all the codes. for that, I will break the list of dictionaries into columns, break the dictionaries, melt the dataframe into a single column, and finally, group by code."
   ]
  },
  {
   "cell_type": "code",
   "execution_count": 8,
   "metadata": {},
   "outputs": [
    {
     "name": "stdout",
     "output_type": "stream",
     "text": [
      "      counts\n",
      "code        \n",
      "11       250\n",
      "10       216\n",
      "8        210\n",
      "2        199\n",
      "6        168\n",
      "4        146\n",
      "7        130\n",
      "5         77\n",
      "9         50\n",
      "1         38\n",
      "3         15\n"
     ]
    }
   ],
   "source": [
    "# this generates N columns\n",
    "lst2cols = pd.DataFrame(df['mjtheme_namecode'].values.tolist())\n",
    "\n",
    "# melt them into a single one\n",
    "lst2cols = pd.melt(lst2cols)\n",
    "\n",
    "#break the dictionaries\n",
    "lst2cols2 = lst2cols['value'].apply(pd.Series)\n",
    "\n",
    "#group, count, and rename\n",
    "lst2cols2 = lst2cols2.groupby('code').count().sort_values(by='name', ascending=False)\n",
    "lst2cols2.index = lst2cols2.index.astype(int)\n",
    "lst2cols2 = lst2cols2.rename(columns={'name':'counts'})\n",
    "\n",
    "# printing\n",
    "print(lst2cols2)"
   ]
  },
  {
   "cell_type": "markdown",
   "metadata": {},
   "source": [
    "So, projects of code 3 are the least implemented, which mean that the other 10 are the most implemented. I could call head(10) to show only 10, but there are 11 in total\n",
    "\n",
    "Now, let me create the dictionary of the names and id's, and re-print the previous information with the names associated to them."
   ]
  },
  {
   "cell_type": "code",
   "execution_count": 9,
   "metadata": {},
   "outputs": [
    {
     "name": "stdout",
     "output_type": "stream",
     "text": [
      "      counts                                          name\n",
      "code                                                      \n",
      "11       250  Environment and natural resources management\n",
      "10       216                             Rural development\n",
      "8        210                             Human development\n",
      "2        199                      Public sector governance\n",
      "6        168         Social protection and risk management\n",
      "4        146      Financial and private sector development\n",
      "7        130                   Social dev/gender/inclusion\n",
      "5         77                         Trade and integration\n",
      "9         50                             Urban development\n",
      "1         38                           Economic management\n"
     ]
    }
   ],
   "source": [
    "# break the list into columns\n",
    "listoflists = df['mjtheme_namecode'].values.tolist()\n",
    "\n",
    "# make a single list with \"sum\", then create a dataframe with it\n",
    "biglistdf = pd.DataFrame(sum(listoflists,[]))\n",
    "\n",
    "# drop duplicates and nans, and empty names as well - we will replace them later\n",
    "listdf = biglistdf.drop_duplicates()\n",
    "listdf = listdf.dropna()\n",
    "listdf = listdf[listdf['name'] != '']\n",
    "\n",
    "# create the code - name dictionary\n",
    "simpledict = dict(zip(listdf['code'].astype(int).tolist(), listdf['name'].tolist()))\n",
    "\n",
    "# let's use ints for the code number, and set them as index\n",
    "listdf['code'] = listdf['code'].astype(int)\n",
    "listdf = listdf.set_index('code')\n",
    "\n",
    "# merge the previous dataframe with the new information provided by the dictionary\n",
    "sol2 = pd.concat([lst2cols2,listdf], axis=1).sort_values(by='counts', ascending=False)\n",
    "\n",
    "# print\n",
    "print(sol2.head(10))"
   ]
  },
  {
   "cell_type": "markdown",
   "metadata": {},
   "source": [
    "## Problem 3: Filling in missing values\n",
    "\n",
    "The main reason to create the dictionary above is to be able to fill in the empty values on the list. There may be many ways to implement this, the least desirebale one is to loop over all rows in the dataframe. My approach here will be to define a function that replaces the empty names with names from a dictionary, for a list of dictioaries. This is applied onto de dataframe of our choice.\n"
   ]
  },
  {
   "cell_type": "code",
   "execution_count": 10,
   "metadata": {},
   "outputs": [
    {
     "name": "stdout",
     "output_type": "stream",
     "text": [
      "0    [{'code': '8', 'name': 'Human development'}, {...\n",
      "1    [{'code': '1', 'name': 'Economic management'},...\n",
      "2    [{'code': '5', 'name': 'Trade and integration'...\n",
      "3    [{'code': '7', 'name': 'Social dev/gender/incl...\n",
      "4    [{'code': '5', 'name': 'Trade and integration'...\n",
      "Name: mjtheme_namecode, dtype: object\n"
     ]
    }
   ],
   "source": [
    "def replaceitems (listofdicts, spldict):\n",
    "    # loop over elements in list\n",
    "    for dct in listofdicts:\n",
    "        if dct['name']=='':\n",
    "            dct['name'] = spldict[int(dct['code'])]\n",
    "    \n",
    "    return listofdicts\n",
    "\n",
    "df0['mjtheme_namecode'].apply(replaceitems,args=(simpledict,))\n",
    "print(df0['mjtheme_namecode'].head())"
   ]
  },
  {
   "cell_type": "markdown",
   "metadata": {},
   "source": [
    "Can we make sure this worked? Let's find all strings that contain \"'name': ''\" in df0. If should return an empty dataframe"
   ]
  },
  {
   "cell_type": "code",
   "execution_count": 11,
   "metadata": {},
   "outputs": [
    {
     "name": "stdout",
     "output_type": "stream",
     "text": [
      "Empty DataFrame\n",
      "Columns: [_id, approvalfy, board_approval_month, boardapprovaldate, borrower, closingdate, country_namecode, countrycode, countryname, countryshortname, docty, envassesmentcategorycode, grantamt, ibrdcommamt, id, idacommamt, impagency, lendinginstr, lendinginstrtype, lendprojectcost, majorsector_percent, mjsector_namecode, mjtheme, mjtheme_namecode, mjthemecode, prodline, prodlinetext, productlinetype, project_abstract, project_name, projectdocs, projectfinancialtype, projectstatusdisplay, regionname, sector, sector1, sector2, sector3, sector4, sector_namecode, sectorcode, source, status, supplementprojectflg, theme1, theme_namecode, themecode, totalamt, totalcommamt, url]\n",
      "Index: []\n",
      "\n",
      "[0 rows x 50 columns]\n"
     ]
    }
   ],
   "source": [
    "print(df0[df0['mjtheme_namecode'].astype(str).str.contains(\"'name': ''\")])"
   ]
  },
  {
   "cell_type": "markdown",
   "metadata": {},
   "source": [
    "Excellent! The new dataframe is ready!\n",
    "\n",
    "Now, feel free to save it back as json, and we call it a day."
   ]
  },
  {
   "cell_type": "code",
   "execution_count": 12,
   "metadata": {},
   "outputs": [],
   "source": [
    "df0.to_json('WorldBank_corrected.json')"
   ]
  },
  {
   "cell_type": "markdown",
   "metadata": {},
   "source": [
    "Thank you so much for reading!"
   ]
  }
 ],
 "metadata": {
  "kernelspec": {
   "display_name": "Python 3",
   "language": "python",
   "name": "python3"
  },
  "language_info": {
   "codemirror_mode": {
    "name": "ipython",
    "version": 3
   },
   "file_extension": ".py",
   "mimetype": "text/x-python",
   "name": "python",
   "nbconvert_exporter": "python",
   "pygments_lexer": "ipython3",
   "version": "3.6.4"
  }
 },
 "nbformat": 4,
 "nbformat_minor": 2
}
